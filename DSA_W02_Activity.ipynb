{
 "cells": [
  {
   "cell_type": "code",
   "execution_count": 7,
   "id": "7588777e",
   "metadata": {},
   "outputs": [
    {
     "name": "stdout",
     "output_type": "stream",
     "text": [
      "Enter the side of the equilateral triangle: 4\n",
      "Area = 6.928\n"
     ]
    }
   ],
   "source": [
    "#Q.1\n",
    "import math\n",
    "side = float(input(\"Enter the side of the equilateral triangle: \"))\n",
    "area = ((math.sqrt(3))/4)*pow(side,2)\n",
    "print(\"Area =\",round(area,3))\n"
   ]
  },
  {
   "cell_type": "code",
   "execution_count": 17,
   "id": "9f143a94",
   "metadata": {},
   "outputs": [
    {
     "name": "stdout",
     "output_type": "stream",
     "text": [
      "{'m': 1, 'p': 2, 's': 4, 'i': 4}\n"
     ]
    }
   ],
   "source": [
    "#Q.2\n",
    "name_1=(\"mississippi\")\n",
    "print({i: name_1.count(i) for i in set(name_1)})"
   ]
  },
  {
   "cell_type": "code",
   "execution_count": 14,
   "id": "c6a7cc13",
   "metadata": {},
   "outputs": [
    {
     "name": "stdout",
     "output_type": "stream",
     "text": [
      "lenth of the rectangle is = 10\n",
      "Breadth of the rectangle is = 9\n",
      "Area = 90\n",
      "Perimeter = 38\n"
     ]
    }
   ],
   "source": [
    "#Q.3\n",
    "A=int(input(\"lenth of the rectangle is = \"))\n",
    "B=int(input(\"Breadth of the rectangle is = \"))\n",
    "aor=(A*B)\n",
    "por=(2*(A+B))\n",
    "print(\"Area =\",aor)\n",
    "print(\"Perimeter =\",por)"
   ]
  },
  {
   "cell_type": "code",
   "execution_count": 15,
   "id": "c3a2884b",
   "metadata": {},
   "outputs": [
    {
     "name": "stdout",
     "output_type": "stream",
     "text": [
      "Squence till which natrual number15\n",
      "Fabonacci Series = \n",
      "0\n",
      "1\n",
      "1\n",
      "2\n",
      "3\n",
      "5\n",
      "8\n",
      "13\n"
     ]
    }
   ],
   "source": [
    "#Q.4\n",
    "n=int(input(\"Squence till which natrual number\"))\n",
    "a,b=0,1\n",
    "c=0\n",
    "if n<=0:\n",
    "    print(\"Enter a positive natural number\")\n",
    "elif n==1:\n",
    "    print(\"Series upto\",n,\"=\",a)\n",
    "else:\n",
    "    print('Fabonacci Series = ')\n",
    "    while c< n:\n",
    "        print(a)\n",
    "        nth=a+b\n",
    "        a=b\n",
    "        b=nth\n",
    "        c+=2"
   ]
  },
  {
   "cell_type": "code",
   "execution_count": 19,
   "id": "a1826d46",
   "metadata": {},
   "outputs": [
    {
     "name": "stdout",
     "output_type": "stream",
     "text": [
      "Enter three numbers followed by  : 3 -11 12\n",
      "First number : 3\n",
      "Second number : -11\n",
      "Third number : 12\n",
      "-11  is smallest\n"
     ]
    }
   ],
   "source": [
    "#Q.5\n",
    "a,b,c =map(int, input(\"Enter three numbers followed by  : \").split())\n",
    "\n",
    "print(\"First number :\",a)\n",
    "print(\"Second number :\",b)\n",
    "print(\"Third number :\",c)\n",
    "if a==b==c:    \n",
    "    print(\"Entered numbers are equal!!!\")\n",
    "elif a<b<c:\n",
    "    print(a,\" is smallest\")\n",
    "elif b<a<c:\n",
    "    print(b,\" is smallest\")\n",
    "else:\n",
    "    print(c,\" is smallest\")"
   ]
  },
  {
   "cell_type": "code",
   "execution_count": 20,
   "id": "11a891d7",
   "metadata": {},
   "outputs": [
    {
     "name": "stdout",
     "output_type": "stream",
     "text": [
      "No of rows of pyramid = 5\n",
      "    *\n",
      "   **\n",
      "  ***\n",
      " ****\n",
      "*****\n"
     ]
    }
   ],
   "source": [
    "#Q.6\n",
    "n_o_r=int(input(\"No of rows of pyramid = \"))\n",
    "k = 1 * n_o_r - 1    \n",
    "for i in range(0, n_o_r):  \n",
    "    for j in range(0, k):  \n",
    "        print(end=\" \")  \n",
    "    k = k - 1    \n",
    "    for j in range(0, i + 1):  \n",
    "        print(\"*\", end=\"\") \n",
    "    print(\"\")"
   ]
  },
  {
   "cell_type": "code",
   "execution_count": 21,
   "id": "8b80651e",
   "metadata": {},
   "outputs": [
    {
     "name": "stdout",
     "output_type": "stream",
     "text": [
      "Enter time in Hours :12\n",
      "12  Hour is equal to 43200  Seconds\n"
     ]
    }
   ],
   "source": [
    "#Q.7\n",
    "def to_seconds(t):\n",
    "    \n",
    "    return t*60*60\n",
    "time_in_hours = int(input(\"Enter time in Hours :\"))\n",
    "print(time_in_hours ,\" Hour is equal to\" ,to_seconds(time_in_hours) ,\" Seconds\")"
   ]
  },
  {
   "cell_type": "code",
   "execution_count": 22,
   "id": "825f6f2b",
   "metadata": {},
   "outputs": [
    {
     "name": "stdout",
     "output_type": "stream",
     "text": [
      "Enter a number to find the multiplication table :4\n",
      "1 x 4 = 4\n",
      "2 x 4 = 8\n",
      "3 x 4 = 12\n",
      "4 x 4 = 16\n",
      "5 x 4 = 20\n",
      "6 x 4 = 24\n",
      "7 x 4 = 28\n",
      "8 x 4 = 32\n",
      "9 x 4 = 36\n",
      "10 x 4 = 40\n"
     ]
    }
   ],
   "source": [
    "#Q.8\n",
    "n=int(input(\"Enter a number to find the multiplication table :\"))\n",
    "for i in range(1,11):\n",
    "    print(F'{i} x {n} = {i*n}')"
   ]
  },
  {
   "cell_type": "code",
   "execution_count": 25,
   "id": "f31606cd",
   "metadata": {},
   "outputs": [
    {
     "name": "stdout",
     "output_type": "stream",
     "text": [
      "I like Tea\n",
      "I like CB\n",
      "I like BB\n",
      "I like Rice Soup\n",
      "I like Pappad\n"
     ]
    }
   ],
   "source": [
    "#Q.9\n",
    "liked=[\"Tea\",\"CB\",\"BB\",\"Rice Soup\",\"Pappad\"]\n",
    "for i in liked:\n",
    "    print(\"I like\",i)"
   ]
  },
  {
   "cell_type": "code",
   "execution_count": 28,
   "id": "18eee9a5",
   "metadata": {},
   "outputs": [
    {
     "name": "stdout",
     "output_type": "stream",
     "text": [
      "Enter avalue of x: 11\n",
      "They are unequal\n"
     ]
    }
   ],
   "source": [
    "#Q.10\n",
    "x=int(input(\"Enter avalue of x: \"))\n",
    "for y in range (0,10):\n",
    "    if x==y:\n",
    "            print(\"They are equale\")\n",
    "else:\n",
    "    print( \"They are unequal\")"
   ]
  },
  {
   "cell_type": "code",
   "execution_count": null,
   "id": "4c1dda05",
   "metadata": {},
   "outputs": [],
   "source": []
  }
 ],
 "metadata": {
  "kernelspec": {
   "display_name": "Python 3",
   "language": "python",
   "name": "python3"
  },
  "language_info": {
   "codemirror_mode": {
    "name": "ipython",
    "version": 3
   },
   "file_extension": ".py",
   "mimetype": "text/x-python",
   "name": "python",
   "nbconvert_exporter": "python",
   "pygments_lexer": "ipython3",
   "version": "3.8.8"
  }
 },
 "nbformat": 4,
 "nbformat_minor": 5
}
